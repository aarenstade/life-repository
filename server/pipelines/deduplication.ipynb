{
    "cells": [
        {
            "cell_type": "markdown",
            "metadata": {},
            "source": [
                "# Deduplicators\n"
            ]
        },
        {
            "cell_type": "code",
            "execution_count": null,
            "metadata": {},
            "outputs": [],
            "source": [
                "directory_path = \"../../data/files/iPhone 8_sample/\""
            ]
        },
        {
            "cell_type": "code",
            "execution_count": null,
            "metadata": {},
            "outputs": [],
            "source": [
                "import sys\n",
                "\n",
                "sys.path.append(\"../\")\n",
                "\n",
                "import os\n",
                "import random\n",
                "import shutil\n",
                "\n",
                "from services.files.directory_file_organizer import DirectoryFileOrganizer\n",
                "\n",
                "\n",
                "def copy_random_sample(directory_path: str, sample_percentage: float) -> None:\n",
                "    if not (0 < sample_percentage <= 100):\n",
                "        raise ValueError(\"Sample percentage must be between 0 and 100\")\n",
                "\n",
                "    all_files = DirectoryFileOrganizer.list_files_recursive(directory_path)\n",
                "    sample_size = int(len(all_files) * (sample_percentage / 100))\n",
                "    sample_files = random.sample(all_files, sample_size)\n",
                "\n",
                "    parent_directory = os.path.dirname(directory_path.rstrip(\"/\"))\n",
                "    sample_directory = os.path.join(\n",
                "        parent_directory, os.path.basename(directory_path.rstrip(\"/\")) + \"_sample\"\n",
                "    )\n",
                "\n",
                "    os.makedirs(sample_directory, exist_ok=True)\n",
                "\n",
                "    for file_path in sample_files:\n",
                "        relative_path = os.path.relpath(file_path, directory_path)\n",
                "        destination_path = os.path.join(sample_directory, relative_path)\n",
                "        os.makedirs(os.path.dirname(destination_path), exist_ok=True)\n",
                "        shutil.copy2(file_path, destination_path)\n",
                "\n",
                "\n",
                "# Example usage\n",
                "copy_random_sample(directory_path, 10)  # Copy 10% of files to a new directory"
            ]
        },
        {
            "cell_type": "markdown",
            "metadata": {},
            "source": [
                "### Image Deduplicator\n"
            ]
        },
        {
            "cell_type": "code",
            "execution_count": null,
            "metadata": {},
            "outputs": [],
            "source": [
                "import sys\n",
                "\n",
                "sys.path.append(\"../\")\n",
                "\n",
                "import os\n",
                "import random\n",
                "import shutil\n",
                "\n",
                "from services.files.directory_file_organizer import DirectoryFileOrganizer\n",
                "\n",
                "from models.files import FileType\n",
                "from services.files.directory_file_organizer import DirectoryFileOrganizer\n",
                "from services.files.deduplication.image_deduplicator import ImageDeduplicator\n",
                "from services.files.deduplication.video_deduplicator import VideoDeduplicator\n",
                "\n",
                "\n",
                "# deduplicator = ImageDeduplicator(threshold=0.9)\n",
                "# image_paths = DirectoryFileOrganizer.list_files_recursive(directory_path)\n",
                "# image_paths = DirectoryFileOrganizer.group_files_by_type(image_paths)[FileType.IMAGE]\n",
                "\n",
                "deduplicator = VideoDeduplicator(threshold=0.9)\n",
                "video_paths = DirectoryFileOrganizer.list_files_recursive(directory_path)\n",
                "video_paths = DirectoryFileOrganizer.group_files_by_type(video_paths)[FileType.VIDEO]\n",
                "\n",
                "len(video_paths)"
            ]
        },
        {
            "cell_type": "code",
            "execution_count": null,
            "metadata": {},
            "outputs": [],
            "source": [
                "duplicate_paths = deduplicator.deduplicate_video_paths(video_paths)\n",
                "duplicate_paths"
            ]
        },
        {
            "cell_type": "code",
            "execution_count": null,
            "metadata": {},
            "outputs": [],
            "source": []
        }
    ],
    "metadata": {
        "kernelspec": {
            "display_name": ".venv",
            "language": "python",
            "name": "python3"
        },
        "language_info": {
            "codemirror_mode": {
                "name": "ipython",
                "version": 3
            },
            "file_extension": ".py",
            "mimetype": "text/x-python",
            "name": "python",
            "nbconvert_exporter": "python",
            "pygments_lexer": "ipython3",
            "version": "3.11.4"
        }
    },
    "nbformat": 4,
    "nbformat_minor": 2
}
