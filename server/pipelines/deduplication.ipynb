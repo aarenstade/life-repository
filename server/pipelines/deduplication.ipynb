{
    "cells": [
        {
            "cell_type": "markdown",
            "metadata": {},
            "source": [
                "# Deduplicators\n"
            ]
        },
        {
            "cell_type": "code",
            "execution_count": null,
            "metadata": {},
            "outputs": [],
            "source": [
                "directory_path = \"../../data/files/Workout Progress HS/\""
            ]
        },
        {
            "cell_type": "markdown",
            "metadata": {},
            "source": [
                "### Image Deduplicator\n"
            ]
        },
        {
            "cell_type": "code",
            "execution_count": null,
            "metadata": {},
            "outputs": [],
            "source": [
                "import sys\n",
                "\n",
                "sys.path.append(\"../\")\n",
                "\n",
                "from models.file_metadata import FileType\n",
                "from services.files.directory_file_organizer import DirectoryFileOrganizer\n",
                "from services.files.deduplication.image_deduplicator import ImageDeduplicator\n",
                "\n",
                "\n",
                "deduplicator = ImageDeduplicator(threshold=0.9)\n",
                "image_paths = DirectoryFileOrganizer.list_files_recursive(directory_path)\n",
                "image_paths = DirectoryFileOrganizer.group_files_by_type(image_paths)[FileType.IMAGE]\n",
                "\n",
                "len(image_paths)"
            ]
        },
        {
            "cell_type": "code",
            "execution_count": null,
            "metadata": {},
            "outputs": [],
            "source": [
                "duplicate_paths = deduplicator.deduplicate_image_paths(image_paths)\n",
                "duplicate_paths"
            ]
        },
        {
            "cell_type": "code",
            "execution_count": null,
            "metadata": {},
            "outputs": [],
            "source": []
        }
    ],
    "metadata": {
        "kernelspec": {
            "display_name": ".venv",
            "language": "python",
            "name": "python3"
        },
        "language_info": {
            "codemirror_mode": {
                "name": "ipython",
                "version": 3
            },
            "file_extension": ".py",
            "mimetype": "text/x-python",
            "name": "python",
            "nbconvert_exporter": "python",
            "pygments_lexer": "ipython3",
            "version": "3.11.4"
        }
    },
    "nbformat": 4,
    "nbformat_minor": 2
}
